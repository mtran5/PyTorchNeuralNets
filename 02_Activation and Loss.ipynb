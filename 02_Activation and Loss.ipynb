{
 "cells": [
  {
   "cell_type": "markdown",
   "id": "appropriate-divorce",
   "metadata": {},
   "source": [
    "### Exercise 4: ReLU"
   ]
  },
  {
   "cell_type": "markdown",
   "id": "incident-detective",
   "metadata": {},
   "source": [
    "Implement the ```ReLU``` activation function and its backward gradient"
   ]
  },
  {
   "cell_type": "code",
   "execution_count": 17,
   "id": "magnetic-forestry",
   "metadata": {},
   "outputs": [],
   "source": [
    "class ReLU():\n",
    "    def __call__(self, X):\n",
    "        # TODO: Implement the forward pass\n",
    "        self.mask = X < 0\n",
    "        X[self.mask] = 0\n",
    "        return X\n",
    "    def backward(self, loss_grad):\n",
    "        # TODO: Implement the backward pass\n",
    "        self.grad = loss_grad @ self.mask"
   ]
  },
  {
   "cell_type": "code",
   "execution_count": 22,
   "id": "defensive-order",
   "metadata": {},
   "outputs": [
    {
     "name": "stdout",
     "output_type": "stream",
     "text": [
      "Correct implementation!\n"
     ]
    }
   ],
   "source": [
    "relu = ReLU()\n",
    "y = relu(y)\n",
    "\n",
    "relu_torch = torch.nn.ReLU()\n",
    "y_ts = relu_torch(y_ts)\n",
    "\n",
    "assert utils.check_norm_diff(y, y_ts.detach().numpy())\n",
    "print(\"Correct implementation!\")"
   ]
  },
  {
   "cell_type": "markdown",
   "id": "revised-search",
   "metadata": {},
   "source": [
    "### Exercise 5: Loss Function\n",
    "\n",
    "Implement the Mean Squared Error (MSE) loss function and its backward gradient. The result should be a single scalar value that is the sum of all elements divided by the number of elements in the output. It is common to multiply this loss by 0.5 so that the backward pass has the unity term.\n",
    "\n",
    "Resources:\n",
    "\n",
    "* [MSELoss PyTorch](https://pytorch.org/docs/stable/generated/torch.nn.MSELoss.html)"
   ]
  },
  {
   "cell_type": "code",
   "execution_count": 25,
   "id": "standing-fiber",
   "metadata": {},
   "outputs": [],
   "source": [
    "class MSELoss():\n",
    "    def __call__(true, pred):\n",
    "        #TODO: Implement the forward pass\n",
    "        self.loss = np.mean((true - pred)**2, keepdims=False)\n",
    "        self.pred = pred\n",
    "        self.true = true\n",
    "        return self.loss\n",
    "    def backward(self):\n",
    "        self.grad = np.mean(self.pred - self.true)\n",
    "        return self.grad"
   ]
  }
 ],
 "metadata": {
  "kernelspec": {
   "display_name": "Python 3",
   "language": "python",
   "name": "python3"
  },
  "language_info": {
   "codemirror_mode": {
    "name": "ipython",
    "version": 3
   },
   "file_extension": ".py",
   "mimetype": "text/x-python",
   "name": "python",
   "nbconvert_exporter": "python",
   "pygments_lexer": "ipython3",
   "version": "3.8.8"
  }
 },
 "nbformat": 4,
 "nbformat_minor": 5
}
