{
 "cells": [
  {
   "cell_type": "markdown",
   "id": "latin-spread",
   "metadata": {},
   "source": [
    "In this notebook, we will implement the linear layer, which is one of the most basic block of many neural network. We will also implement back-propagation on linear layer, which is how they can learn. The linear classifier simply multiply an input matrix $X$ with a trainable weight matrix $W$ to get an output layer. To make the linear classifier output change value, it is neccessary to also add a bias term $b$\n",
    "\n",
    "**Exercise 1** Calculate the output y with your hand. Is this output what you expect? "
   ]
  },
  {
   "cell_type": "code",
   "execution_count": 15,
   "id": "lonely-violence",
   "metadata": {},
   "outputs": [
    {
     "name": "stdout",
     "output_type": "stream",
     "text": [
      "tensor([[25],\n",
      "        [54]])\n"
     ]
    }
   ],
   "source": [
    "import torch\n",
    "X = torch.tensor([[1], [2], [3]]) # shape: 3 x 1\n",
    "W = torch.tensor([[1, 2, 3], [4, 5, 6]]) # shape: 2 x 3\n",
    "b = torch.tensor([[11], [22]]) # shape: 2 x 1\n",
    "y = W.matmul(X) + b\n",
    "print(y)"
   ]
  },
  {
   "cell_type": "markdown",
   "id": "impossible-threshold",
   "metadata": {},
   "source": [
    "Often, in neural network, the bias term is added as a new column into the $W$ matrix and a value of 1 is added to the $X$ matrix. \n",
    "\n",
    "**Exercise 2.** Implement the new way to multiply $X$ and $W$ without adding the bias term"
   ]
  },
  {
   "cell_type": "code",
   "execution_count": 21,
   "id": "outdoor-germany",
   "metadata": {},
   "outputs": [
    {
     "ename": "AssertionError",
     "evalue": "",
     "output_type": "error",
     "traceback": [
      "\u001b[1;31m---------------------------------------------------------------------------\u001b[0m",
      "\u001b[1;31mAssertionError\u001b[0m                            Traceback (most recent call last)",
      "\u001b[1;32m<ipython-input-21-d98ec8c6956b>\u001b[0m in \u001b[0;36m<module>\u001b[1;34m\u001b[0m\n\u001b[0;32m      3\u001b[0m \u001b[0mW_new\u001b[0m \u001b[1;33m=\u001b[0m \u001b[0mW\u001b[0m\u001b[1;33m\u001b[0m\u001b[1;33m\u001b[0m\u001b[0m\n\u001b[0;32m      4\u001b[0m \u001b[0my\u001b[0m \u001b[1;33m=\u001b[0m \u001b[0mW_new\u001b[0m\u001b[1;33m.\u001b[0m\u001b[0mmatmul\u001b[0m\u001b[1;33m(\u001b[0m\u001b[0mX_new\u001b[0m\u001b[1;33m)\u001b[0m\u001b[1;33m\u001b[0m\u001b[1;33m\u001b[0m\u001b[0m\n\u001b[1;32m----> 5\u001b[1;33m \u001b[1;32massert\u001b[0m \u001b[0mtorch\u001b[0m\u001b[1;33m.\u001b[0m\u001b[0mequal\u001b[0m\u001b[1;33m(\u001b[0m\u001b[0my\u001b[0m\u001b[1;33m,\u001b[0m \u001b[0mtorch\u001b[0m\u001b[1;33m.\u001b[0m\u001b[0mtensor\u001b[0m\u001b[1;33m(\u001b[0m\u001b[1;33m[\u001b[0m\u001b[1;33m[\u001b[0m\u001b[1;36m25\u001b[0m\u001b[1;33m]\u001b[0m\u001b[1;33m,\u001b[0m\u001b[1;33m[\u001b[0m\u001b[1;36m54\u001b[0m\u001b[1;33m]\u001b[0m\u001b[1;33m]\u001b[0m\u001b[1;33m)\u001b[0m\u001b[1;33m)\u001b[0m\u001b[1;33m\u001b[0m\u001b[1;33m\u001b[0m\u001b[0m\n\u001b[0m",
      "\u001b[1;31mAssertionError\u001b[0m: "
     ]
    }
   ],
   "source": [
    "# TODO: modify X and W\n",
    "\n",
    "#---#\n",
    "X_new = X\n",
    "W_new = W\n",
    "#---#\n",
    "\n",
    "y = W_new.matmul(X_new)\n",
    "assert torch.equal(y, torch.tensor([[25],[54]]))"
   ]
  },
  {
   "cell_type": "code",
   "execution_count": null,
   "id": "natural-mouse",
   "metadata": {},
   "outputs": [],
   "source": []
  }
 ],
 "metadata": {
  "kernelspec": {
   "display_name": "Python 3",
   "language": "python",
   "name": "python3"
  },
  "language_info": {
   "codemirror_mode": {
    "name": "ipython",
    "version": 3
   },
   "file_extension": ".py",
   "mimetype": "text/x-python",
   "name": "python",
   "nbconvert_exporter": "python",
   "pygments_lexer": "ipython3",
   "version": "3.8.8"
  }
 },
 "nbformat": 4,
 "nbformat_minor": 5
}
